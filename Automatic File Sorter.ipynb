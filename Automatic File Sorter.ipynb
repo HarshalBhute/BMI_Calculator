{
 "cells": [
  {
   "cell_type": "markdown",
   "id": "383c854e",
   "metadata": {},
   "source": [
    "# Automatic File Sorter in File Explorer\n"
   ]
  },
  {
   "cell_type": "code",
   "execution_count": 1,
   "id": "7740f039",
   "metadata": {},
   "outputs": [
    {
     "name": "stdout",
     "output_type": "stream",
     "text": [
      "There are files in this path that are not moved\n",
      "There are files in this path that are not moved\n",
      "There are files in this path that are not moved\n",
      "There are files in this path that are not moved\n",
      "There are files in this path that are not moved\n"
     ]
    }
   ],
   "source": [
    "import os, shutil\n",
    "\n",
    "path = r\"C:/Users/harsh/OneDrive/Desktop/File Explorer/\"\n",
    "\n",
    "file_name = os.listdir(path)\n",
    "\n",
    "folder_names = ['csv files','image files','text files']\n",
    "for loop in range(0,3):\n",
    "    if not os.path.exists(path + folder_names[loop]):\n",
    "        print(path + folder_names[loop])\n",
    "        os.makedirs((path + folder_names[loop]))\n",
    "        \n",
    "for file in file_name:\n",
    "    if \".pdf\" in file and not os.path.exists(path + \"csv files/\" + file):\n",
    "        shutil.move(path + file,path + \"csv files/\" + file)\n",
    "    elif \".png\" in file and not os.path.exists(path + \"csv files/\" + file):\n",
    "        shutil.move(path + file,path + \"image files/\" + file)\n",
    "    elif \".jpg\" in file and not os.path.exists(path + \"csv files/\" + file):\n",
    "        shutil.move(path + file,path + \"text files/\" + file)\n",
    "    else:\n",
    "        print(\"There are files in this path that are not moved\")"
   ]
  },
  {
   "cell_type": "code",
   "execution_count": 14,
   "id": "855ba0a4",
   "metadata": {},
   "outputs": [],
   "source": []
  },
  {
   "cell_type": "code",
   "execution_count": 17,
   "id": "3b902db8",
   "metadata": {},
   "outputs": [],
   "source": []
  },
  {
   "cell_type": "code",
   "execution_count": 21,
   "id": "7d3cc837",
   "metadata": {
    "scrolled": true
   },
   "outputs": [
    {
     "name": "stdout",
     "output_type": "stream",
     "text": [
      "There are files in this path that are not moved\n",
      "There are files in this path that are not moved\n",
      "There are files in this path that are not moved\n",
      "There are files in this path that are not moved\n",
      "There are files in this path that are not moved\n",
      "There are files in this path that are not moved\n",
      "There are files in this path that are not moved\n"
     ]
    }
   ],
   "source": []
  },
  {
   "cell_type": "code",
   "execution_count": 20,
   "id": "bd4fd299",
   "metadata": {},
   "outputs": [
    {
     "name": "stdout",
     "output_type": "stream",
     "text": [
      "There are files in this path that are not moved\n",
      "There are files in this path that are not moved\n",
      "There are files in this path that are not moved\n",
      "There are files in this path that are not moved\n",
      "There are files in this path that are not moved\n",
      "There are files in this path that are not moved\n",
      "There are files in this path that are not moved\n"
     ]
    }
   ],
   "source": []
  },
  {
   "cell_type": "code",
   "execution_count": null,
   "id": "de3295fd",
   "metadata": {},
   "outputs": [],
   "source": []
  }
 ],
 "metadata": {
  "kernelspec": {
   "display_name": "Python 3 (ipykernel)",
   "language": "python",
   "name": "python3"
  },
  "language_info": {
   "codemirror_mode": {
    "name": "ipython",
    "version": 3
   },
   "file_extension": ".py",
   "mimetype": "text/x-python",
   "name": "python",
   "nbconvert_exporter": "python",
   "pygments_lexer": "ipython3",
   "version": "3.11.5"
  }
 },
 "nbformat": 4,
 "nbformat_minor": 5
}
